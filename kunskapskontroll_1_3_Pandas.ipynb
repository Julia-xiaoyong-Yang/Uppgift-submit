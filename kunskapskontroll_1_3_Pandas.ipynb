{
 "cells": [
  {
   "cell_type": "markdown",
   "id": "b540290b",
   "metadata": {},
   "source": [
    "# Pandas\n",
    "Read \"10 minutes to Pandas\": https://pandas.pydata.org/docs/user_guide/10min.html before solving the exercises.\n",
    "We will use the data set \"cars_data\" in the exercises below. "
   ]
  },
  {
   "cell_type": "code",
   "execution_count": 2,
   "id": "fa266ee4",
   "metadata": {},
   "outputs": [],
   "source": [
    "# Importing Pandas. \n",
    "import pandas as pd"
   ]
  },
  {
   "cell_type": "markdown",
   "id": "addb587b",
   "metadata": {},
   "source": [
    "### Explain what a CSV file is."
   ]
  },
  {
   "cell_type": "code",
   "execution_count": null,
   "id": "6047c36f",
   "metadata": {},
   "outputs": [],
   "source": [
    "# CSV stands for data with \"Comma-Separated Values\""
   ]
  },
  {
   "cell_type": "markdown",
   "id": "5c61e5d9",
   "metadata": {},
   "source": [
    "### Load the data set \"cars_data\" through Pandas. "
   ]
  },
  {
   "cell_type": "code",
   "execution_count": null,
   "id": "91923010",
   "metadata": {},
   "outputs": [],
   "source": [
    "# When reading in the data, either you have the data file in the same folder as your python script\n",
    "# or in a seperate folder.\n",
    "\n",
    "# Code below can be ran if you have the data file in the same folder as the script\n",
    "# cars = pd.read_csv(\"cars_data.csv\")\n",
    "\n",
    "# Code below can be ran if you have the data file in another script. \n",
    "# Notice, you must change the path according to where you have the data in your computer. \n",
    "# pd.read_csv(r'C:\\Users\\Antonio Prgomet\\Documents\\ec_utbildning\\kursframstallning\\ds23\\python_stat\\exercises\\numpy_matplot_pandas\\cars_data.csv')"
   ]
  },
  {
   "cell_type": "code",
   "execution_count": 15,
   "id": "ae196ecf-1a98-4a74-8db5-6178e1b1702c",
   "metadata": {},
   "outputs": [],
   "source": [
    "import pandas as pd\n",
    "\n",
    "cars = pd.read_csv(\"cars_data.csv\")\n",
    "# data_path = r'C:\\Users\\xiaya573\\Desktop\\data scientists\\python_stat-main\\python_stat-main\\tränna\\project.zip\\Introduction to DataCamp Projects\\datasets\\global_temperature'\n",
    "# cars = pd.read_csv(data_path)"
   ]
  },
  {
   "cell_type": "markdown",
   "id": "b9ac1d06",
   "metadata": {},
   "source": [
    "### Print the first 10 rows of the data. "
   ]
  },
  {
   "cell_type": "code",
   "execution_count": 16,
   "id": "2886ff8e",
   "metadata": {},
   "outputs": [
    {
     "name": "stdout",
     "output_type": "stream",
     "text": [
      "   index      company   body-style  wheel-base  length engine-type  \\\n",
      "0      0  alfa-romero  convertible        88.6   168.8        dohc   \n",
      "1      1  alfa-romero  convertible        88.6   168.8        dohc   \n",
      "2      2  alfa-romero    hatchback        94.5   171.2        ohcv   \n",
      "3      3         audi        sedan        99.8   176.6         ohc   \n",
      "4      4         audi        sedan        99.4   176.6         ohc   \n",
      "5      5         audi        sedan        99.8   177.3         ohc   \n",
      "6      6         audi        wagon       105.8   192.7         ohc   \n",
      "7      9          bmw        sedan       101.2   176.8         ohc   \n",
      "8     10          bmw        sedan       101.2   176.8         ohc   \n",
      "9     11          bmw        sedan       101.2   176.8         ohc   \n",
      "\n",
      "  num-of-cylinders  horsepower  average-mileage    price  \n",
      "0             four         111               21  13495.0  \n",
      "1             four         111               21  16500.0  \n",
      "2              six         154               19  16500.0  \n",
      "3             four         102               24  13950.0  \n",
      "4             five         115               18  17450.0  \n",
      "5             five         110               19  15250.0  \n",
      "6             five         110               19  18920.0  \n",
      "7             four         101               23  16430.0  \n",
      "8             four         101               23  16925.0  \n",
      "9              six         121               21  20970.0  \n"
     ]
    }
   ],
   "source": [
    "print(cars.head(10))"
   ]
  },
  {
   "cell_type": "markdown",
   "id": "ec02774b",
   "metadata": {},
   "source": [
    "### Print the last 5 rows. "
   ]
  },
  {
   "cell_type": "code",
   "execution_count": 29,
   "id": "437d158f",
   "metadata": {},
   "outputs": [
    {
     "name": "stdout",
     "output_type": "stream",
     "text": [
      "    index     company body-style  wheel-base  length engine-type  \\\n",
      "56     81  volkswagen      sedan        97.3   171.7         ohc   \n",
      "57     82  volkswagen      sedan        97.3   171.7         ohc   \n",
      "58     86  volkswagen      sedan        97.3   171.7         ohc   \n",
      "59     87       volvo      sedan       104.3   188.8         ohc   \n",
      "60     88       volvo      wagon       104.3   188.8         ohc   \n",
      "\n",
      "   num-of-cylinders  horsepower  average-mileage    price  \n",
      "56             four          85               27   7975.0  \n",
      "57             four          52               37   7995.0  \n",
      "58             four         100               26   9995.0  \n",
      "59             four         114               23  12940.0  \n",
      "60             four         114               23  13415.0  \n"
     ]
    }
   ],
   "source": [
    "print(cars.tail())"
   ]
  },
  {
   "cell_type": "markdown",
   "id": "e0cd9329",
   "metadata": {},
   "source": [
    "### By using the info method, check how many non-null rows each column have. "
   ]
  },
  {
   "cell_type": "code",
   "execution_count": 33,
   "id": "efe71f5f",
   "metadata": {},
   "outputs": [
    {
     "name": "stdout",
     "output_type": "stream",
     "text": [
      "<class 'pandas.core.frame.DataFrame'>\n",
      "RangeIndex: 61 entries, 0 to 60\n",
      "Data columns (total 10 columns):\n",
      " #   Column            Non-Null Count  Dtype  \n",
      "---  ------            --------------  -----  \n",
      " 0   index             61 non-null     int64  \n",
      " 1   company           61 non-null     object \n",
      " 2   body-style        61 non-null     object \n",
      " 3   wheel-base        61 non-null     float64\n",
      " 4   length            61 non-null     float64\n",
      " 5   engine-type       61 non-null     object \n",
      " 6   num-of-cylinders  61 non-null     object \n",
      " 7   horsepower        61 non-null     int64  \n",
      " 8   average-mileage   61 non-null     int64  \n",
      " 9   price             58 non-null     float64\n",
      "dtypes: float64(3), int64(3), object(4)\n",
      "memory usage: 4.9+ KB\n"
     ]
    }
   ],
   "source": [
    "cars.info()"
   ]
  },
  {
   "cell_type": "markdown",
   "id": "887f8c9c",
   "metadata": {},
   "source": [
    "### If any column has a missing value, drop the entire row. Notice, the operation should be inplace meaning you change the dataframe itself."
   ]
  },
  {
   "cell_type": "code",
   "execution_count": 57,
   "id": "60b660dc",
   "metadata": {},
   "outputs": [
    {
     "name": "stdout",
     "output_type": "stream",
     "text": [
      "    index        company   body-style  wheel-base  length engine-type num-of-cylinders  horsepower  average-mileage    price\n",
      "0       0    alfa-romero  convertible        88.6   168.8        dohc             four         111               21  13495.0\n",
      "1       1    alfa-romero  convertible        88.6   168.8        dohc             four         111               21  16500.0\n",
      "2       2    alfa-romero    hatchback        94.5   171.2        ohcv              six         154               19  16500.0\n",
      "3       3           audi        sedan        99.8   176.6         ohc             four         102               24  13950.0\n",
      "4       4           audi        sedan        99.4   176.6         ohc             five         115               18  17450.0\n",
      "5       5           audi        sedan        99.8   177.3         ohc             five         110               19  15250.0\n",
      "6       6           audi        wagon       105.8   192.7         ohc             five         110               19  18920.0\n",
      "7       9            bmw        sedan       101.2   176.8         ohc             four         101               23  16430.0\n",
      "8      10            bmw        sedan       101.2   176.8         ohc             four         101               23  16925.0\n",
      "9      11            bmw        sedan       101.2   176.8         ohc              six         121               21  20970.0\n",
      "10     13            bmw        sedan       103.5   189.0         ohc              six         182               16  30760.0\n",
      "11     14            bmw        sedan       103.5   193.8         ohc              six         182               16  41315.0\n",
      "12     15            bmw        sedan       110.0   197.0         ohc              six         182               15  36880.0\n",
      "13     16      chevrolet    hatchback        88.4   141.1           l            three          48               47   5151.0\n",
      "14     17      chevrolet    hatchback        94.5   155.9         ohc             four          70               38   6295.0\n",
      "15     18      chevrolet        sedan        94.5   158.8         ohc             four          70               38   6575.0\n",
      "16     19          dodge    hatchback        93.7   157.3         ohc             four          68               31   6377.0\n",
      "17     20          dodge    hatchback        93.7   157.3         ohc             four          68               31   6229.0\n",
      "18     27          honda        wagon        96.5   157.1         ohc             four          76               30   7295.0\n",
      "19     28          honda        sedan        96.5   175.4         ohc             four         101               24  12945.0\n",
      "20     29          honda        sedan        96.5   169.1         ohc             four         100               25  10345.0\n",
      "21     30          isuzu        sedan        94.3   170.7         ohc             four          78               24   6785.0\n",
      "24     33         jaguar        sedan       113.0   199.6        dohc              six         176               15  32250.0\n",
      "25     34         jaguar        sedan       113.0   199.6        dohc              six         176               15  35550.0\n",
      "26     35         jaguar        sedan       102.0   191.7        ohcv           twelve         262               13  36000.0\n",
      "27     36          mazda    hatchback        93.1   159.1         ohc             four          68               30   5195.0\n",
      "28     37          mazda    hatchback        93.1   159.1         ohc             four          68               31   6095.0\n",
      "29     38          mazda    hatchback        93.1   159.1         ohc             four          68               31   6795.0\n",
      "30     39          mazda    hatchback        95.3   169.0       rotor              two         101               17  11845.0\n",
      "31     43          mazda        sedan       104.9   175.0         ohc             four          72               31  18344.0\n",
      "32     44  mercedes-benz        sedan       110.0   190.9         ohc             five         123               22  25552.0\n",
      "33     45  mercedes-benz        wagon       110.0   190.9         ohc             five         123               22  28248.0\n",
      "34     46  mercedes-benz        sedan       120.9   208.1        ohcv            eight         184               14  40960.0\n",
      "35     47  mercedes-benz      hardtop       112.0   199.2        ohcv            eight         184               14  45400.0\n",
      "36     49     mitsubishi    hatchback        93.7   157.3         ohc             four          68               37   5389.0\n",
      "37     50     mitsubishi    hatchback        93.7   157.3         ohc             four          68               31   6189.0\n",
      "38     51     mitsubishi        sedan        96.3   172.4         ohc             four          88               25   6989.0\n",
      "39     52     mitsubishi        sedan        96.3   172.4         ohc             four          88               25   8189.0\n",
      "40     53         nissan        sedan        94.5   165.3         ohc             four          55               45   7099.0\n",
      "41     54         nissan        sedan        94.5   165.3         ohc             four          69               31   6649.0\n",
      "42     55         nissan        sedan        94.5   165.3         ohc             four          69               31   6849.0\n",
      "43     56         nissan        wagon        94.5   170.2         ohc             four          69               31   7349.0\n",
      "44     57         nissan        sedan       100.4   184.6        ohcv              six         152               19  13499.0\n",
      "45     61        porsche      hardtop        89.5   168.9        ohcf              six         207               17  34028.0\n",
      "46     62        porsche  convertible        89.5   168.9        ohcf              six         207               17  37028.0\n",
      "48     66         toyota    hatchback        95.7   158.7         ohc             four          62               35   5348.0\n",
      "49     67         toyota    hatchback        95.7   158.7         ohc             four          62               31   6338.0\n",
      "50     68         toyota    hatchback        95.7   158.7         ohc             four          62               31   6488.0\n",
      "51     69         toyota        wagon        95.7   169.7         ohc             four          62               31   6918.0\n",
      "52     70         toyota        wagon        95.7   169.7         ohc             four          62               27   7898.0\n",
      "53     71         toyota        wagon        95.7   169.7         ohc             four          62               27   8778.0\n",
      "54     79         toyota        wagon       104.5   187.8        dohc              six         156               19  15750.0\n",
      "55     80     volkswagen        sedan        97.3   171.7         ohc             four          52               37   7775.0\n",
      "56     81     volkswagen        sedan        97.3   171.7         ohc             four          85               27   7975.0\n",
      "57     82     volkswagen        sedan        97.3   171.7         ohc             four          52               37   7995.0\n",
      "58     86     volkswagen        sedan        97.3   171.7         ohc             four         100               26   9995.0\n",
      "59     87          volvo        sedan       104.3   188.8         ohc             four         114               23  12940.0\n",
      "60     88          volvo        wagon       104.3   188.8         ohc             four         114               23  13415.0\n",
      "\n",
      "\n",
      "    index        company   body-style  wheel-base  length engine-type num-of-cylinders  horsepower  average-mileage    price\n",
      "0       0    alfa-romero  convertible        88.6   168.8        dohc             four         111               21  13495.0\n",
      "1       1    alfa-romero  convertible        88.6   168.8        dohc             four         111               21  16500.0\n",
      "2       2    alfa-romero    hatchback        94.5   171.2        ohcv              six         154               19  16500.0\n",
      "3       3           audi        sedan        99.8   176.6         ohc             four         102               24  13950.0\n",
      "4       4           audi        sedan        99.4   176.6         ohc             five         115               18  17450.0\n",
      "5       5           audi        sedan        99.8   177.3         ohc             five         110               19  15250.0\n",
      "6       6           audi        wagon       105.8   192.7         ohc             five         110               19  18920.0\n",
      "7       9            bmw        sedan       101.2   176.8         ohc             four         101               23  16430.0\n",
      "8      10            bmw        sedan       101.2   176.8         ohc             four         101               23  16925.0\n",
      "9      11            bmw        sedan       101.2   176.8         ohc              six         121               21  20970.0\n",
      "10     13            bmw        sedan       103.5   189.0         ohc              six         182               16  30760.0\n",
      "11     14            bmw        sedan       103.5   193.8         ohc              six         182               16  41315.0\n",
      "12     15            bmw        sedan       110.0   197.0         ohc              six         182               15  36880.0\n",
      "13     16      chevrolet    hatchback        88.4   141.1           l            three          48               47   5151.0\n",
      "14     17      chevrolet    hatchback        94.5   155.9         ohc             four          70               38   6295.0\n",
      "15     18      chevrolet        sedan        94.5   158.8         ohc             four          70               38   6575.0\n",
      "16     19          dodge    hatchback        93.7   157.3         ohc             four          68               31   6377.0\n",
      "17     20          dodge    hatchback        93.7   157.3         ohc             four          68               31   6229.0\n",
      "18     27          honda        wagon        96.5   157.1         ohc             four          76               30   7295.0\n",
      "19     28          honda        sedan        96.5   175.4         ohc             four         101               24  12945.0\n",
      "20     29          honda        sedan        96.5   169.1         ohc             four         100               25  10345.0\n",
      "21     30          isuzu        sedan        94.3   170.7         ohc             four          78               24   6785.0\n",
      "24     33         jaguar        sedan       113.0   199.6        dohc              six         176               15  32250.0\n",
      "25     34         jaguar        sedan       113.0   199.6        dohc              six         176               15  35550.0\n",
      "26     35         jaguar        sedan       102.0   191.7        ohcv           twelve         262               13  36000.0\n",
      "27     36          mazda    hatchback        93.1   159.1         ohc             four          68               30   5195.0\n",
      "28     37          mazda    hatchback        93.1   159.1         ohc             four          68               31   6095.0\n",
      "29     38          mazda    hatchback        93.1   159.1         ohc             four          68               31   6795.0\n",
      "30     39          mazda    hatchback        95.3   169.0       rotor              two         101               17  11845.0\n",
      "31     43          mazda        sedan       104.9   175.0         ohc             four          72               31  18344.0\n",
      "32     44  mercedes-benz        sedan       110.0   190.9         ohc             five         123               22  25552.0\n",
      "33     45  mercedes-benz        wagon       110.0   190.9         ohc             five         123               22  28248.0\n",
      "34     46  mercedes-benz        sedan       120.9   208.1        ohcv            eight         184               14  40960.0\n",
      "35     47  mercedes-benz      hardtop       112.0   199.2        ohcv            eight         184               14  45400.0\n",
      "36     49     mitsubishi    hatchback        93.7   157.3         ohc             four          68               37   5389.0\n",
      "37     50     mitsubishi    hatchback        93.7   157.3         ohc             four          68               31   6189.0\n",
      "38     51     mitsubishi        sedan        96.3   172.4         ohc             four          88               25   6989.0\n",
      "39     52     mitsubishi        sedan        96.3   172.4         ohc             four          88               25   8189.0\n",
      "40     53         nissan        sedan        94.5   165.3         ohc             four          55               45   7099.0\n",
      "41     54         nissan        sedan        94.5   165.3         ohc             four          69               31   6649.0\n",
      "42     55         nissan        sedan        94.5   165.3         ohc             four          69               31   6849.0\n",
      "43     56         nissan        wagon        94.5   170.2         ohc             four          69               31   7349.0\n",
      "44     57         nissan        sedan       100.4   184.6        ohcv              six         152               19  13499.0\n",
      "45     61        porsche      hardtop        89.5   168.9        ohcf              six         207               17  34028.0\n",
      "46     62        porsche  convertible        89.5   168.9        ohcf              six         207               17  37028.0\n",
      "48     66         toyota    hatchback        95.7   158.7         ohc             four          62               35   5348.0\n",
      "49     67         toyota    hatchback        95.7   158.7         ohc             four          62               31   6338.0\n",
      "50     68         toyota    hatchback        95.7   158.7         ohc             four          62               31   6488.0\n",
      "51     69         toyota        wagon        95.7   169.7         ohc             four          62               31   6918.0\n",
      "52     70         toyota        wagon        95.7   169.7         ohc             four          62               27   7898.0\n",
      "53     71         toyota        wagon        95.7   169.7         ohc             four          62               27   8778.0\n",
      "54     79         toyota        wagon       104.5   187.8        dohc              six         156               19  15750.0\n",
      "55     80     volkswagen        sedan        97.3   171.7         ohc             four          52               37   7775.0\n",
      "56     81     volkswagen        sedan        97.3   171.7         ohc             four          85               27   7975.0\n",
      "57     82     volkswagen        sedan        97.3   171.7         ohc             four          52               37   7995.0\n",
      "58     86     volkswagen        sedan        97.3   171.7         ohc             four         100               26   9995.0\n",
      "59     87          volvo        sedan       104.3   188.8         ohc             four         114               23  12940.0\n",
      "60     88          volvo        wagon       104.3   188.8         ohc             four         114               23  13415.0\n"
     ]
    }
   ],
   "source": [
    "new_cars = cars.dropna()\n",
    "print(new_cars.to_string())\n",
    "# dropna() 方法返回一个新的 DataFrame，不会修改源数据。\n",
    "# 如果你要修改源数据 DataFrame, 可以使用 inplace = True 参数:\n",
    "print()\n",
    "print()\n",
    "cars.dropna(inplace = True)\n",
    "print(cars.to_string())\n",
    "\n",
    "\n"
   ]
  },
  {
   "cell_type": "markdown",
   "id": "614eeffe",
   "metadata": {},
   "source": [
    "### Calculate the mean of each numeric column. "
   ]
  },
  {
   "cell_type": "code",
   "execution_count": 59,
   "id": "49e06c7c",
   "metadata": {},
   "outputs": [
    {
     "name": "stdout",
     "output_type": "stream",
     "text": [
      "index                 40.827586\n",
      "wheel-base            98.620690\n",
      "length               173.646552\n",
      "horsepower           106.051724\n",
      "average-mileage       25.534483\n",
      "price              15387.000000\n",
      "dtype: float64\n"
     ]
    },
    {
     "name": "stderr",
     "output_type": "stream",
     "text": [
      "/tmp/ipykernel_161/4214792684.py:1: FutureWarning: The default value of numeric_only in DataFrame.mean is deprecated. In a future version, it will default to False. In addition, specifying 'numeric_only=None' is deprecated. Select only valid columns or specify the value of numeric_only to silence this warning.\n",
      "  mean_values = cars.mean()\n"
     ]
    }
   ],
   "source": [
    "mean_values = cars.mean()\n",
    "print(mean_values)"
   ]
  },
  {
   "cell_type": "markdown",
   "id": "f4f79bfd",
   "metadata": {},
   "source": [
    "### Select the rows where the column \"company\" is equal to 'honda'. "
   ]
  },
  {
   "cell_type": "code",
   "execution_count": 65,
   "id": "1e373079",
   "metadata": {},
   "outputs": [
    {
     "name": "stdout",
     "output_type": "stream",
     "text": [
      "    index company body-style  wheel-base  length engine-type num-of-cylinders  \\\n",
      "18     27   honda      wagon        96.5   157.1         ohc             four   \n",
      "19     28   honda      sedan        96.5   175.4         ohc             four   \n",
      "20     29   honda      sedan        96.5   169.1         ohc             four   \n",
      "\n",
      "    horsepower  average-mileage    price  \n",
      "18          76               30   7295.0  \n",
      "19         101               24  12945.0  \n",
      "20         100               25  10345.0  \n"
     ]
    }
   ],
   "source": [
    "hond_rows = cars[cars[\"company\"] == \"honda\"]\n",
    "print(hond_rows)"
   ]
  },
  {
   "cell_type": "markdown",
   "id": "0a3543eb",
   "metadata": {},
   "source": [
    "### Sort the data set by price in descending order. This should *not* be an inplace operation. "
   ]
  },
  {
   "cell_type": "code",
   "execution_count": 67,
   "id": "8455abaa",
   "metadata": {},
   "outputs": [
    {
     "name": "stdout",
     "output_type": "stream",
     "text": [
      "    index        company   body-style  wheel-base  length engine-type  \\\n",
      "35     47  mercedes-benz      hardtop       112.0   199.2        ohcv   \n",
      "11     14            bmw        sedan       103.5   193.8         ohc   \n",
      "34     46  mercedes-benz        sedan       120.9   208.1        ohcv   \n",
      "46     62        porsche  convertible        89.5   168.9        ohcf   \n",
      "12     15            bmw        sedan       110.0   197.0         ohc   \n",
      "26     35         jaguar        sedan       102.0   191.7        ohcv   \n",
      "25     34         jaguar        sedan       113.0   199.6        dohc   \n",
      "45     61        porsche      hardtop        89.5   168.9        ohcf   \n",
      "24     33         jaguar        sedan       113.0   199.6        dohc   \n",
      "10     13            bmw        sedan       103.5   189.0         ohc   \n",
      "33     45  mercedes-benz        wagon       110.0   190.9         ohc   \n",
      "32     44  mercedes-benz        sedan       110.0   190.9         ohc   \n",
      "9      11            bmw        sedan       101.2   176.8         ohc   \n",
      "6       6           audi        wagon       105.8   192.7         ohc   \n",
      "31     43          mazda        sedan       104.9   175.0         ohc   \n",
      "4       4           audi        sedan        99.4   176.6         ohc   \n",
      "8      10            bmw        sedan       101.2   176.8         ohc   \n",
      "2       2    alfa-romero    hatchback        94.5   171.2        ohcv   \n",
      "1       1    alfa-romero  convertible        88.6   168.8        dohc   \n",
      "7       9            bmw        sedan       101.2   176.8         ohc   \n",
      "54     79         toyota        wagon       104.5   187.8        dohc   \n",
      "5       5           audi        sedan        99.8   177.3         ohc   \n",
      "3       3           audi        sedan        99.8   176.6         ohc   \n",
      "44     57         nissan        sedan       100.4   184.6        ohcv   \n",
      "0       0    alfa-romero  convertible        88.6   168.8        dohc   \n",
      "60     88          volvo        wagon       104.3   188.8         ohc   \n",
      "19     28          honda        sedan        96.5   175.4         ohc   \n",
      "59     87          volvo        sedan       104.3   188.8         ohc   \n",
      "30     39          mazda    hatchback        95.3   169.0       rotor   \n",
      "20     29          honda        sedan        96.5   169.1         ohc   \n",
      "58     86     volkswagen        sedan        97.3   171.7         ohc   \n",
      "53     71         toyota        wagon        95.7   169.7         ohc   \n",
      "39     52     mitsubishi        sedan        96.3   172.4         ohc   \n",
      "57     82     volkswagen        sedan        97.3   171.7         ohc   \n",
      "56     81     volkswagen        sedan        97.3   171.7         ohc   \n",
      "52     70         toyota        wagon        95.7   169.7         ohc   \n",
      "55     80     volkswagen        sedan        97.3   171.7         ohc   \n",
      "43     56         nissan        wagon        94.5   170.2         ohc   \n",
      "18     27          honda        wagon        96.5   157.1         ohc   \n",
      "40     53         nissan        sedan        94.5   165.3         ohc   \n",
      "38     51     mitsubishi        sedan        96.3   172.4         ohc   \n",
      "51     69         toyota        wagon        95.7   169.7         ohc   \n",
      "42     55         nissan        sedan        94.5   165.3         ohc   \n",
      "29     38          mazda    hatchback        93.1   159.1         ohc   \n",
      "21     30          isuzu        sedan        94.3   170.7         ohc   \n",
      "41     54         nissan        sedan        94.5   165.3         ohc   \n",
      "15     18      chevrolet        sedan        94.5   158.8         ohc   \n",
      "50     68         toyota    hatchback        95.7   158.7         ohc   \n",
      "16     19          dodge    hatchback        93.7   157.3         ohc   \n",
      "49     67         toyota    hatchback        95.7   158.7         ohc   \n",
      "14     17      chevrolet    hatchback        94.5   155.9         ohc   \n",
      "17     20          dodge    hatchback        93.7   157.3         ohc   \n",
      "37     50     mitsubishi    hatchback        93.7   157.3         ohc   \n",
      "28     37          mazda    hatchback        93.1   159.1         ohc   \n",
      "36     49     mitsubishi    hatchback        93.7   157.3         ohc   \n",
      "48     66         toyota    hatchback        95.7   158.7         ohc   \n",
      "27     36          mazda    hatchback        93.1   159.1         ohc   \n",
      "13     16      chevrolet    hatchback        88.4   141.1           l   \n",
      "\n",
      "   num-of-cylinders  horsepower  average-mileage    price  \n",
      "35            eight         184               14  45400.0  \n",
      "11              six         182               16  41315.0  \n",
      "34            eight         184               14  40960.0  \n",
      "46              six         207               17  37028.0  \n",
      "12              six         182               15  36880.0  \n",
      "26           twelve         262               13  36000.0  \n",
      "25              six         176               15  35550.0  \n",
      "45              six         207               17  34028.0  \n",
      "24              six         176               15  32250.0  \n",
      "10              six         182               16  30760.0  \n",
      "33             five         123               22  28248.0  \n",
      "32             five         123               22  25552.0  \n",
      "9               six         121               21  20970.0  \n",
      "6              five         110               19  18920.0  \n",
      "31             four          72               31  18344.0  \n",
      "4              five         115               18  17450.0  \n",
      "8              four         101               23  16925.0  \n",
      "2               six         154               19  16500.0  \n",
      "1              four         111               21  16500.0  \n",
      "7              four         101               23  16430.0  \n",
      "54              six         156               19  15750.0  \n",
      "5              five         110               19  15250.0  \n",
      "3              four         102               24  13950.0  \n",
      "44              six         152               19  13499.0  \n",
      "0              four         111               21  13495.0  \n",
      "60             four         114               23  13415.0  \n",
      "19             four         101               24  12945.0  \n",
      "59             four         114               23  12940.0  \n",
      "30              two         101               17  11845.0  \n",
      "20             four         100               25  10345.0  \n",
      "58             four         100               26   9995.0  \n",
      "53             four          62               27   8778.0  \n",
      "39             four          88               25   8189.0  \n",
      "57             four          52               37   7995.0  \n",
      "56             four          85               27   7975.0  \n",
      "52             four          62               27   7898.0  \n",
      "55             four          52               37   7775.0  \n",
      "43             four          69               31   7349.0  \n",
      "18             four          76               30   7295.0  \n",
      "40             four          55               45   7099.0  \n",
      "38             four          88               25   6989.0  \n",
      "51             four          62               31   6918.0  \n",
      "42             four          69               31   6849.0  \n",
      "29             four          68               31   6795.0  \n",
      "21             four          78               24   6785.0  \n",
      "41             four          69               31   6649.0  \n",
      "15             four          70               38   6575.0  \n",
      "50             four          62               31   6488.0  \n",
      "16             four          68               31   6377.0  \n",
      "49             four          62               31   6338.0  \n",
      "14             four          70               38   6295.0  \n",
      "17             four          68               31   6229.0  \n",
      "37             four          68               31   6189.0  \n",
      "28             four          68               31   6095.0  \n",
      "36             four          68               37   5389.0  \n",
      "48             four          62               35   5348.0  \n",
      "27             four          68               30   5195.0  \n",
      "13            three          48               47   5151.0  \n"
     ]
    }
   ],
   "source": [
    "cars_sort = cars.sort_values([\"price\"], ascending=False)\n",
    "# Or\n",
    "# cars_sort = cars.sort_values(by=\"price\", ascending=False)\n",
    "print(cars_sort)"
   ]
  },
  {
   "cell_type": "markdown",
   "id": "1527f255",
   "metadata": {},
   "source": [
    "### Select the rows where the column \"company\" is equal to any of the values (audi, bmw, porsche)."
   ]
  },
  {
   "cell_type": "code",
   "execution_count": 69,
   "id": "60e300ae",
   "metadata": {},
   "outputs": [
    {
     "name": "stdout",
     "output_type": "stream",
     "text": [
      "   index company body-style  wheel-base  length engine-type num-of-cylinders  \\\n",
      "3      3    audi      sedan        99.8   176.6         ohc             four   \n",
      "4      4    audi      sedan        99.4   176.6         ohc             five   \n",
      "5      5    audi      sedan        99.8   177.3         ohc             five   \n",
      "6      6    audi      wagon       105.8   192.7         ohc             five   \n",
      "\n",
      "   horsepower  average-mileage    price  \n",
      "3         102               24  13950.0  \n",
      "4         115               18  17450.0  \n",
      "5         110               19  15250.0  \n",
      "6         110               19  18920.0  \n"
     ]
    }
   ],
   "source": [
    "# Only can select one value\n",
    "selected_rows = cars[cars[\"company\"] == \"audi\"]\n",
    "print(selected_rows)"
   ]
  },
  {
   "cell_type": "code",
   "execution_count": 71,
   "id": "c1d05930-c681-4f07-8b44-dfc40eaff47e",
   "metadata": {},
   "outputs": [
    {
     "name": "stdout",
     "output_type": "stream",
     "text": [
      "    index  company   body-style  wheel-base  length engine-type  \\\n",
      "3       3     audi        sedan        99.8   176.6         ohc   \n",
      "4       4     audi        sedan        99.4   176.6         ohc   \n",
      "5       5     audi        sedan        99.8   177.3         ohc   \n",
      "6       6     audi        wagon       105.8   192.7         ohc   \n",
      "7       9      bmw        sedan       101.2   176.8         ohc   \n",
      "8      10      bmw        sedan       101.2   176.8         ohc   \n",
      "9      11      bmw        sedan       101.2   176.8         ohc   \n",
      "10     13      bmw        sedan       103.5   189.0         ohc   \n",
      "11     14      bmw        sedan       103.5   193.8         ohc   \n",
      "12     15      bmw        sedan       110.0   197.0         ohc   \n",
      "45     61  porsche      hardtop        89.5   168.9        ohcf   \n",
      "46     62  porsche  convertible        89.5   168.9        ohcf   \n",
      "\n",
      "   num-of-cylinders  horsepower  average-mileage    price  \n",
      "3              four         102               24  13950.0  \n",
      "4              five         115               18  17450.0  \n",
      "5              five         110               19  15250.0  \n",
      "6              five         110               19  18920.0  \n",
      "7              four         101               23  16430.0  \n",
      "8              four         101               23  16925.0  \n",
      "9               six         121               21  20970.0  \n",
      "10              six         182               16  30760.0  \n",
      "11              six         182               16  41315.0  \n",
      "12              six         182               15  36880.0  \n",
      "45              six         207               17  34028.0  \n",
      "46              six         207               17  37028.0  \n"
     ]
    }
   ],
   "source": [
    "# Create a list of comany names to filter\n",
    "company_names = ['audi', \"bmw\", \"porsche\"]\n",
    "# Use boolean indexing to select rows where \"company\" is in the list\n",
    "filtered_rows = cars[cars['company'].isin(company_names)]\n",
    "print(filtered_rows )"
   ]
  },
  {
   "cell_type": "markdown",
   "id": "3ce133eb",
   "metadata": {},
   "source": [
    "### Find the number of cars (rows) for each company. "
   ]
  },
  {
   "cell_type": "code",
   "execution_count": 77,
   "id": "7e6a9d43",
   "metadata": {},
   "outputs": [
    {
     "name": "stdout",
     "output_type": "stream",
     "text": [
      "toyota           7\n",
      "bmw              6\n",
      "mazda            5\n",
      "nissan           5\n",
      "audi             4\n",
      "mercedes-benz    4\n",
      "mitsubishi       4\n",
      "volkswagen       4\n",
      "alfa-romero      3\n",
      "chevrolet        3\n",
      "honda            3\n",
      "jaguar           3\n",
      "dodge            2\n",
      "porsche          2\n",
      "volvo            2\n",
      "isuzu            1\n",
      "Name: company, dtype: int64\n"
     ]
    }
   ],
   "source": [
    "company_counts = cars[\"company\"].value_counts()\n",
    "print(company_counts )"
   ]
  },
  {
   "cell_type": "markdown",
   "id": "5beef62f",
   "metadata": {},
   "source": [
    "### Find the maximum price for each company. "
   ]
  },
  {
   "cell_type": "code",
   "execution_count": 19,
   "id": "d91dc8be",
   "metadata": {},
   "outputs": [
    {
     "name": "stdout",
     "output_type": "stream",
     "text": [
      "volvo\n"
     ]
    }
   ],
   "source": [
    "max_price = cars[\"company\"].max()\n",
    "print(max_price)"
   ]
  },
  {
   "cell_type": "code",
   "execution_count": 21,
   "id": "abf99166-632e-4ff9-a584-2275827a53b6",
   "metadata": {},
   "outputs": [
    {
     "name": "stdout",
     "output_type": "stream",
     "text": [
      "company\n",
      "alfa-romero      16500.0\n",
      "audi             18920.0\n",
      "bmw              41315.0\n",
      "chevrolet         6575.0\n",
      "dodge             6377.0\n",
      "honda            12945.0\n",
      "isuzu             6785.0\n",
      "jaguar           36000.0\n",
      "mazda            18344.0\n",
      "mercedes-benz    45400.0\n",
      "mitsubishi        8189.0\n",
      "nissan           13499.0\n",
      "porsche          37028.0\n",
      "toyota           15750.0\n",
      "volkswagen        9995.0\n",
      "volvo            13415.0\n",
      "Name: price, dtype: float64\n"
     ]
    }
   ],
   "source": [
    "# groupby() method to group the data by the \"company\" column, creating separate groups for each unique company.\n",
    "# 按照指定列, each unique company, 进行分组\n",
    "\n",
    "# Within each group, we use ['price'] to select the \"price\" column,\n",
    "# Apply the max() function to find the maximum price within each group.\n",
    "# The result is a Series that shows the maximum price for each company.\n",
    "\n",
    "max_price_each_company = cars.groupby(\"company\")[\"price\"].max()\n",
    "print(max_price_each_company)"
   ]
  },
  {
   "cell_type": "code",
   "execution_count": 27,
   "id": "a4570e14-5de4-4ca5-8bc6-bcf825266d25",
   "metadata": {},
   "outputs": [
    {
     "data": {
      "text/html": [
       "<div>\n",
       "<style scoped>\n",
       "    .dataframe tbody tr th:only-of-type {\n",
       "        vertical-align: middle;\n",
       "    }\n",
       "\n",
       "    .dataframe tbody tr th {\n",
       "        vertical-align: top;\n",
       "    }\n",
       "\n",
       "    .dataframe thead th {\n",
       "        text-align: right;\n",
       "    }\n",
       "</style>\n",
       "<table border=\"1\" class=\"dataframe\">\n",
       "  <thead>\n",
       "    <tr style=\"text-align: right;\">\n",
       "      <th></th>\n",
       "      <th>company</th>\n",
       "      <th>price</th>\n",
       "    </tr>\n",
       "  </thead>\n",
       "  <tbody>\n",
       "    <tr>\n",
       "      <th>0</th>\n",
       "      <td>alfa-romero</td>\n",
       "      <td>16500.0</td>\n",
       "    </tr>\n",
       "    <tr>\n",
       "      <th>1</th>\n",
       "      <td>audi</td>\n",
       "      <td>18920.0</td>\n",
       "    </tr>\n",
       "    <tr>\n",
       "      <th>2</th>\n",
       "      <td>bmw</td>\n",
       "      <td>41315.0</td>\n",
       "    </tr>\n",
       "    <tr>\n",
       "      <th>3</th>\n",
       "      <td>chevrolet</td>\n",
       "      <td>6575.0</td>\n",
       "    </tr>\n",
       "    <tr>\n",
       "      <th>4</th>\n",
       "      <td>dodge</td>\n",
       "      <td>6377.0</td>\n",
       "    </tr>\n",
       "    <tr>\n",
       "      <th>5</th>\n",
       "      <td>honda</td>\n",
       "      <td>12945.0</td>\n",
       "    </tr>\n",
       "    <tr>\n",
       "      <th>6</th>\n",
       "      <td>isuzu</td>\n",
       "      <td>6785.0</td>\n",
       "    </tr>\n",
       "    <tr>\n",
       "      <th>7</th>\n",
       "      <td>jaguar</td>\n",
       "      <td>36000.0</td>\n",
       "    </tr>\n",
       "    <tr>\n",
       "      <th>8</th>\n",
       "      <td>mazda</td>\n",
       "      <td>18344.0</td>\n",
       "    </tr>\n",
       "    <tr>\n",
       "      <th>9</th>\n",
       "      <td>mercedes-benz</td>\n",
       "      <td>45400.0</td>\n",
       "    </tr>\n",
       "    <tr>\n",
       "      <th>10</th>\n",
       "      <td>mitsubishi</td>\n",
       "      <td>8189.0</td>\n",
       "    </tr>\n",
       "    <tr>\n",
       "      <th>11</th>\n",
       "      <td>nissan</td>\n",
       "      <td>13499.0</td>\n",
       "    </tr>\n",
       "    <tr>\n",
       "      <th>12</th>\n",
       "      <td>porsche</td>\n",
       "      <td>37028.0</td>\n",
       "    </tr>\n",
       "    <tr>\n",
       "      <th>13</th>\n",
       "      <td>toyota</td>\n",
       "      <td>15750.0</td>\n",
       "    </tr>\n",
       "    <tr>\n",
       "      <th>14</th>\n",
       "      <td>volkswagen</td>\n",
       "      <td>9995.0</td>\n",
       "    </tr>\n",
       "    <tr>\n",
       "      <th>15</th>\n",
       "      <td>volvo</td>\n",
       "      <td>13415.0</td>\n",
       "    </tr>\n",
       "  </tbody>\n",
       "</table>\n",
       "</div>"
      ],
      "text/plain": [
       "          company    price\n",
       "0     alfa-romero  16500.0\n",
       "1            audi  18920.0\n",
       "2             bmw  41315.0\n",
       "3       chevrolet   6575.0\n",
       "4           dodge   6377.0\n",
       "5           honda  12945.0\n",
       "6           isuzu   6785.0\n",
       "7          jaguar  36000.0\n",
       "8           mazda  18344.0\n",
       "9   mercedes-benz  45400.0\n",
       "10     mitsubishi   8189.0\n",
       "11         nissan  13499.0\n",
       "12        porsche  37028.0\n",
       "13         toyota  15750.0\n",
       "14     volkswagen   9995.0\n",
       "15          volvo  13415.0"
      ]
     },
     "execution_count": 27,
     "metadata": {},
     "output_type": "execute_result"
    }
   ],
   "source": [
    "#cars.groupby(\"company\")[\"price\"].max().reset_index().sort_values(by='price', ascending = False)\n",
    "\n",
    "cars.groupby(\"company\")[\"price\"].max().reset_index()\n",
    "\n"
   ]
  },
  {
   "cell_type": "code",
   "execution_count": 29,
   "id": "2625833a-c4a6-4185-9abf-ec22e6d139ef",
   "metadata": {},
   "outputs": [
    {
     "data": {
      "text/html": [
       "<div>\n",
       "<style scoped>\n",
       "    .dataframe tbody tr th:only-of-type {\n",
       "        vertical-align: middle;\n",
       "    }\n",
       "\n",
       "    .dataframe tbody tr th {\n",
       "        vertical-align: top;\n",
       "    }\n",
       "\n",
       "    .dataframe thead th {\n",
       "        text-align: right;\n",
       "    }\n",
       "</style>\n",
       "<table border=\"1\" class=\"dataframe\">\n",
       "  <thead>\n",
       "    <tr style=\"text-align: right;\">\n",
       "      <th></th>\n",
       "      <th>company</th>\n",
       "      <th>price</th>\n",
       "    </tr>\n",
       "  </thead>\n",
       "  <tbody>\n",
       "    <tr>\n",
       "      <th>9</th>\n",
       "      <td>mercedes-benz</td>\n",
       "      <td>45400.0</td>\n",
       "    </tr>\n",
       "    <tr>\n",
       "      <th>2</th>\n",
       "      <td>bmw</td>\n",
       "      <td>41315.0</td>\n",
       "    </tr>\n",
       "    <tr>\n",
       "      <th>12</th>\n",
       "      <td>porsche</td>\n",
       "      <td>37028.0</td>\n",
       "    </tr>\n",
       "    <tr>\n",
       "      <th>7</th>\n",
       "      <td>jaguar</td>\n",
       "      <td>36000.0</td>\n",
       "    </tr>\n",
       "    <tr>\n",
       "      <th>1</th>\n",
       "      <td>audi</td>\n",
       "      <td>18920.0</td>\n",
       "    </tr>\n",
       "    <tr>\n",
       "      <th>8</th>\n",
       "      <td>mazda</td>\n",
       "      <td>18344.0</td>\n",
       "    </tr>\n",
       "    <tr>\n",
       "      <th>0</th>\n",
       "      <td>alfa-romero</td>\n",
       "      <td>16500.0</td>\n",
       "    </tr>\n",
       "    <tr>\n",
       "      <th>13</th>\n",
       "      <td>toyota</td>\n",
       "      <td>15750.0</td>\n",
       "    </tr>\n",
       "    <tr>\n",
       "      <th>11</th>\n",
       "      <td>nissan</td>\n",
       "      <td>13499.0</td>\n",
       "    </tr>\n",
       "    <tr>\n",
       "      <th>15</th>\n",
       "      <td>volvo</td>\n",
       "      <td>13415.0</td>\n",
       "    </tr>\n",
       "    <tr>\n",
       "      <th>5</th>\n",
       "      <td>honda</td>\n",
       "      <td>12945.0</td>\n",
       "    </tr>\n",
       "    <tr>\n",
       "      <th>14</th>\n",
       "      <td>volkswagen</td>\n",
       "      <td>9995.0</td>\n",
       "    </tr>\n",
       "    <tr>\n",
       "      <th>10</th>\n",
       "      <td>mitsubishi</td>\n",
       "      <td>8189.0</td>\n",
       "    </tr>\n",
       "    <tr>\n",
       "      <th>6</th>\n",
       "      <td>isuzu</td>\n",
       "      <td>6785.0</td>\n",
       "    </tr>\n",
       "    <tr>\n",
       "      <th>3</th>\n",
       "      <td>chevrolet</td>\n",
       "      <td>6575.0</td>\n",
       "    </tr>\n",
       "    <tr>\n",
       "      <th>4</th>\n",
       "      <td>dodge</td>\n",
       "      <td>6377.0</td>\n",
       "    </tr>\n",
       "  </tbody>\n",
       "</table>\n",
       "</div>"
      ],
      "text/plain": [
       "          company    price\n",
       "9   mercedes-benz  45400.0\n",
       "2             bmw  41315.0\n",
       "12        porsche  37028.0\n",
       "7          jaguar  36000.0\n",
       "1            audi  18920.0\n",
       "8           mazda  18344.0\n",
       "0     alfa-romero  16500.0\n",
       "13         toyota  15750.0\n",
       "11         nissan  13499.0\n",
       "15          volvo  13415.0\n",
       "5           honda  12945.0\n",
       "14     volkswagen   9995.0\n",
       "10     mitsubishi   8189.0\n",
       "6           isuzu   6785.0\n",
       "3       chevrolet   6575.0\n",
       "4           dodge   6377.0"
      ]
     },
     "execution_count": 29,
     "metadata": {},
     "output_type": "execute_result"
    }
   ],
   "source": [
    "cars.groupby(\"company\")[\"price\"].max().reset_index().sort_values(by=\"price\", ascending=False)"
   ]
  },
  {
   "cell_type": "code",
   "execution_count": 33,
   "id": "44d5132e-73c8-4615-881f-e2d6b43cfefa",
   "metadata": {},
   "outputs": [
    {
     "data": {
      "text/plain": [
       "<Axes: xlabel='company'>"
      ]
     },
     "execution_count": 33,
     "metadata": {},
     "output_type": "execute_result"
    },
    {
     "data": {
      "image/png": "[encoded data removed]",
      "text/plain": [
       "<Figure size 640x480 with 1 Axes>"
      ]
     },
     "metadata": {},
     "output_type": "display_data"
    }
   ],
   "source": [
    "cars.groupby(\"company\")[\"price\"].max().plot(kind=\"bar\")"
   ]
  },
  {
   "cell_type": "code",
   "execution_count": null,
   "id": "037f5e73-3894-4160-9938-34c80dc5a138",
   "metadata": {},
   "outputs": [],
   "source": []
  }
 ],
 "metadata": {
  "kernelspec": {
   "display_name": "Python 3 (ipykernel)",
   "language": "python",
   "name": "python3"
  },
  "language_info": {
   "codemirror_mode": {
    "name": "ipython",
    "version": 3
   },
   "file_extension": ".py",
   "mimetype": "text/x-python",
   "name": "python",
   "nbconvert_exporter": "python",
   "pygments_lexer": "ipython3",
   "version": "3.11.5"
  }
 },
 "nbformat": 4,
 "nbformat_minor": 5
}
