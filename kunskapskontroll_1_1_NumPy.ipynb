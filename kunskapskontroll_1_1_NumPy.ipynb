{
 "cells": [
  {
   "cell_type": "markdown",
   "id": "dacf74e6",
   "metadata": {},
   "source": [
    "# NumPy"
   ]
  },
  {
   "cell_type": "markdown",
   "id": "01b2bf34",
   "metadata": {},
   "source": [
    "Read the links: https://numpy.org/doc/stable/user/quickstart.html  and https://numpy.org/doc/stable/user/basics.broadcasting.html  before solving the exercises. "
   ]
  },
  {
   "cell_type": "code",
   "execution_count": 14,
   "id": "1f79e4a6",
   "metadata": {},
   "outputs": [],
   "source": [
    "import numpy as np"
   ]
  },
  {
   "cell_type": "markdown",
   "id": "7dae6889",
   "metadata": {},
   "source": [
    "### Print out the dimension (number of axes), shape, size and the datatype of the matrix A."
   ]
  },
  {
   "cell_type": "code",
   "execution_count": 16,
   "id": "7b3678cd",
   "metadata": {},
   "outputs": [
    {
     "name": "stdout",
     "output_type": "stream",
     "text": [
      "[[ 1  2  3  4  5]\n",
      " [ 6  7  8  9 10]\n",
      " [11 12 13 14 15]]\n"
     ]
    }
   ],
   "source": [
    "A = np.arange(1, 16).reshape(3,5)\n",
    "print(A)"
   ]
  },
  {
   "cell_type": "code",
   "execution_count": 18,
   "id": "31d39235",
   "metadata": {},
   "outputs": [
    {
     "name": "stdout",
     "output_type": "stream",
     "text": [
      "2\n",
      "(3, 5)\n",
      "15\n",
      "int64\n"
     ]
    }
   ],
   "source": [
    "print(A.ndim)\n",
    "print(A.shape)\n",
    "print(A.size)\n",
    "print(A.dtype)"
   ]
  },
  {
   "cell_type": "markdown",
   "id": "e56d2a96",
   "metadata": {},
   "source": [
    "### Do the following computations on the matrices B and C: \n",
    "* Elementwise subtraction. \n",
    "* Elementwise multiplication. \n",
    "* Matrix multiplication (by default you should use the @ operator)."
   ]
  },
  {
   "cell_type": "code",
   "execution_count": 21,
   "id": "a7053fbb",
   "metadata": {},
   "outputs": [
    {
     "name": "stdout",
     "output_type": "stream",
     "text": [
      "[[1 2 3]\n",
      " [4 5 6]\n",
      " [7 8 9]]\n",
      "\n",
      "[[2. 2. 2.]\n",
      " [2. 2. 2.]\n",
      " [2. 2. 2.]]\n"
     ]
    }
   ],
   "source": [
    "B = np.arange(1, 10).reshape(3, 3)\n",
    "C = np.ones((3, 3))*2\n",
    "\n",
    "print(B)\n",
    "print()\n",
    "print(C)"
   ]
  },
  {
   "cell_type": "code",
   "execution_count": 23,
   "id": "3cd794ae",
   "metadata": {},
   "outputs": [
    {
     "name": "stdout",
     "output_type": "stream",
     "text": [
      "[[-1.  0.  1.]\n",
      " [ 2.  3.  4.]\n",
      " [ 5.  6.  7.]]\n",
      "[[ 2.  4.  6.]\n",
      " [ 8. 10. 12.]\n",
      " [14. 16. 18.]]\n",
      "[[12. 12. 12.]\n",
      " [30. 30. 30.]\n",
      " [48. 48. 48.]]\n"
     ]
    }
   ],
   "source": [
    "Elementwise_subtraction = B - C\n",
    "Elementwise_multiplication = B * C\n",
    "Matrix_multiplication = B @ C\n",
    "\n",
    "print(Elementwise_subtraction)\n",
    "print(Elementwise_multiplication)\n",
    "print(Matrix_multiplication)\n"
   ]
  },
  {
   "cell_type": "markdown",
   "id": "96030d53",
   "metadata": {},
   "source": [
    "### Do the following calculations on the matrix:\n",
    "* Exponentiate each number elementwise (use the np.exp function).\n",
    "\n",
    "* Calculate the minimum value in the whole matrix. \n",
    "* Calculcate the minimum value in each row. \n",
    "* Calculcate the minimum value in each column. \n",
    "\n",
    "\n",
    "* Find the index value for the minimum value in the whole matrix (hint: use np.argmin).\n",
    "* Find the index value for the minimum value in each row (hint: use np.argmin).\n",
    "\n",
    "\n",
    "* Calculate the sum for all elements.\n",
    "* Calculate the mean for each column. \n",
    "* Calculate the median for each column. "
   ]
  },
  {
   "cell_type": "code",
   "execution_count": 26,
   "id": "f8a9166b",
   "metadata": {},
   "outputs": [
    {
     "name": "stdout",
     "output_type": "stream",
     "text": [
      "[[1 2 3]\n",
      " [4 5 6]\n",
      " [7 8 9]]\n"
     ]
    }
   ],
   "source": [
    "B = np.arange(1, 10).reshape(3, 3)\n",
    "print(B)"
   ]
  },
  {
   "cell_type": "code",
   "execution_count": 28,
   "id": "f03f24f7",
   "metadata": {},
   "outputs": [
    {
     "name": "stdout",
     "output_type": "stream",
     "text": [
      "[[2.71828183e+00 7.38905610e+00 2.00855369e+01]\n",
      " [5.45981500e+01 1.48413159e+02 4.03428793e+02]\n",
      " [1.09663316e+03 2.98095799e+03 8.10308393e+03]]\n"
     ]
    }
   ],
   "source": [
    "# Calculate the minimum value in the whole matrix.\n",
    "Exponentiate = np.exp(B)\n",
    "print(Exponentiate)"
   ]
  },
  {
   "cell_type": "code",
   "execution_count": 30,
   "id": "7500dbd2",
   "metadata": {},
   "outputs": [
    {
     "name": "stdout",
     "output_type": "stream",
     "text": [
      "1\n"
     ]
    }
   ],
   "source": [
    "# Calculate the minimum value in the whole matrix.\n",
    "min_value_matrix = np.min(B)\n",
    "print(min_value_matrix)"
   ]
  },
  {
   "cell_type": "code",
   "execution_count": 32,
   "id": "9c6944b4",
   "metadata": {},
   "outputs": [
    {
     "name": "stdout",
     "output_type": "stream",
     "text": [
      "[1 4 7]\n",
      "[1 2 3]\n"
     ]
    }
   ],
   "source": [
    "# Calculcate the minimum value in each row.\n",
    "min_value_each_row = np.min(B, axis = 1)\n",
    "print(min_value_each_row)\n",
    "# Calculcate the minimum value in each column.\n",
    "min_value_each_column = np.min(B, axis = 0)\n",
    "print(min_value_each_column)"
   ]
  },
  {
   "cell_type": "code",
   "execution_count": 34,
   "id": "c9ac6cc2",
   "metadata": {},
   "outputs": [
    {
     "name": "stdout",
     "output_type": "stream",
     "text": [
      "0\n",
      "(0, 0)\n"
     ]
    }
   ],
   "source": [
    "# Find the index value for the minimum value in the whole matrix (hint: use np.argmin).\n",
    "min_value_index = np.argmin(B)\n",
    "min_value_index_matrix = np.unravel_index(min_value_index, B.shape)\n",
    "print(min_value_index)\n",
    "print(min_value_index_matrix)"
   ]
  },
  {
   "cell_type": "code",
   "execution_count": 36,
   "id": "0b327cb9",
   "metadata": {},
   "outputs": [
    {
     "name": "stdout",
     "output_type": "stream",
     "text": [
      "[0 0 0]\n",
      "45 45\n",
      "[4. 5. 6.]\n",
      "[4. 5. 6.]\n"
     ]
    }
   ],
   "source": [
    "# Find the index value for the minimum value in each row (hint: use np.argmin).\n",
    "min_value_index_each_row = np.argmin(B, axis = 1)\n",
    "print(min_value_index_each_row)\n",
    "# Calculate the sum for all elements.\n",
    "sum_element = np.sum(B)\n",
    "sum = B.sum()\n",
    "print(sum_element, sum)\n",
    "# Calculate the mean for each column.\n",
    "mean_each_column = np.mean(B, axis = 0)\n",
    "print(mean_each_column)\n",
    "# Calculate the median for each column.\n",
    "median_each_colum = np.median(B, axis = 0)\n",
    "print(median_each_colum)"
   ]
  },
  {
   "cell_type": "markdown",
   "id": "541eb7ba",
   "metadata": {},
   "source": [
    "### What does it mean when you provide fewer indices than axes when slicing? See example below."
   ]
  },
  {
   "cell_type": "code",
   "execution_count": 39,
   "id": "9c8abf56",
   "metadata": {},
   "outputs": [
    {
     "name": "stdout",
     "output_type": "stream",
     "text": [
      "[[ 1  2  3  4  5]\n",
      " [ 6  7  8  9 10]\n",
      " [11 12 13 14 15]]\n"
     ]
    }
   ],
   "source": [
    "# A is a 2-dimentional (3*3) NumPy array\n",
    "print(A)"
   ]
  },
  {
   "cell_type": "code",
   "execution_count": 35,
   "id": "69415f7b",
   "metadata": {},
   "outputs": [
    {
     "data": {
      "text/plain": [
       "array([ 6,  7,  8,  9, 10])"
      ]
     },
     "execution_count": 35,
     "metadata": {},
     "output_type": "execute_result"
    }
   ],
   "source": [
    "# Select a specific row along the specified axis, i.e. \"row slicing\"\n",
    "A[1]"
   ]
  },
  {
   "cell_type": "markdown",
   "id": "6c53541b",
   "metadata": {},
   "source": [
    "**Answer:**"
   ]
  },
  {
   "cell_type": "code",
   "execution_count": 12,
   "id": "de01e120",
   "metadata": {},
   "outputs": [
    {
     "name": "stdout",
     "output_type": "stream",
     "text": [
      "[2, 7, 12]\n"
     ]
    }
   ],
   "source": [
    "# A är en 3*5 matrix vilket finns två axes: rad med axis 0 och column med axis 1. \n",
    "# A[1] menar att slicea andra raden av A, villken är (6,7,8,9,10)\n",
    "# Select a specific colomn along the specified axis, i.e. \"column slicing\"\n",
    "\n",
    "Column = [i[1] for i in A]\n",
    "print(Column)"
   ]
  },
  {
   "cell_type": "code",
   "execution_count": null,
   "id": "2754aeee-bcf0-4c5d-ab9c-1551583811ab",
   "metadata": {},
   "outputs": [],
   "source": []
  },
  {
   "cell_type": "code",
   "execution_count": null,
   "id": "45a4f13c-e025-4205-a45a-d57d9ede0cd6",
   "metadata": {},
   "outputs": [],
   "source": []
  },
  {
   "cell_type": "markdown",
   "id": "6652d0c9",
   "metadata": {},
   "source": [
    "### Iterating over multidimensional arrays is done with respect to the first axis, so in the example below we iterate trough the rows. If you would like to iterate through the array *elementwise*, how would you do that?"
   ]
  },
  {
   "cell_type": "code",
   "execution_count": 41,
   "id": "9459864f",
   "metadata": {},
   "outputs": [
    {
     "data": {
      "text/plain": [
       "array([[ 1,  2,  3,  4,  5],\n",
       "       [ 6,  7,  8,  9, 10],\n",
       "       [11, 12, 13, 14, 15]])"
      ]
     },
     "execution_count": 41,
     "metadata": {},
     "output_type": "execute_result"
    }
   ],
   "source": [
    "A"
   ]
  },
  {
   "cell_type": "code",
   "execution_count": 43,
   "id": "a671bb5a",
   "metadata": {},
   "outputs": [
    {
     "name": "stdout",
     "output_type": "stream",
     "text": [
      "[1 2 3 4 5]\n",
      "[ 6  7  8  9 10]\n",
      "[11 12 13 14 15]\n"
     ]
    }
   ],
   "source": [
    "for i in A:\n",
    "    print(i)"
   ]
  },
  {
   "cell_type": "code",
   "execution_count": 45,
   "id": "f4e443a0",
   "metadata": {},
   "outputs": [
    {
     "name": "stdout",
     "output_type": "stream",
     "text": [
      "1\n",
      "2\n",
      "3\n",
      "4\n",
      "5\n",
      "6\n",
      "7\n",
      "8\n",
      "9\n",
      "10\n",
      "11\n",
      "12\n",
      "13\n",
      "14\n",
      "15\n"
     ]
    }
   ],
   "source": [
    "for row in A:\n",
    "    for element in row:\n",
    "        print(element)"
   ]
  },
  {
   "cell_type": "code",
   "execution_count": 47,
   "id": "2f053a40-b6ff-4f92-850b-7d2a3f62955c",
   "metadata": {},
   "outputs": [
    {
     "name": "stdout",
     "output_type": "stream",
     "text": [
      "1\n",
      "2\n",
      "3\n",
      "4\n",
      "5\n",
      "6\n",
      "7\n",
      "8\n",
      "9\n",
      "10\n",
      "11\n",
      "12\n",
      "13\n",
      "14\n",
      "15\n"
     ]
    }
   ],
   "source": [
    "for element in A.flatten():\n",
    "    print(element)"
   ]
  },
  {
   "cell_type": "markdown",
   "id": "608a2583",
   "metadata": {},
   "source": [
    "### Explain what the code below does. More specifically, b has three axes - what does this mean? "
   ]
  },
  {
   "cell_type": "code",
   "execution_count": 21,
   "id": "f8f9b26f",
   "metadata": {},
   "outputs": [
    {
     "name": "stdout",
     "output_type": "stream",
     "text": [
      "[ 0  1  2  3  4  5  6  7  8  9 10 11 12 13 14 15 16 17 18 19 20 21 22 23\n",
      " 24 25 26 27 28 29]\n",
      "\n",
      "[[[ 0  1  2  3  4]\n",
      "  [ 5  6  7  8  9]\n",
      "  [10 11 12 13 14]]\n",
      "\n",
      " [[15 16 17 18 19]\n",
      "  [20 21 22 23 24]\n",
      "  [25 26 27 28 29]]]\n",
      "3\n"
     ]
    }
   ],
   "source": [
    "# Skapa en 1-dimentional NumPy array, vilken innerhåller talet from 0 to 29\n",
    "\n",
    "a = np.arange(30)\n",
    "\n",
    "# Reshapes the above array \"a\" into a 3-dimentional array \"b\", which is specified as (2,3,-1)\n",
    "# \"-1\" is used as a placeholer 占位符, \n",
    "# -1 is calculated to be 5, ensuring that the reshaped array b has the same number of elements as the original array a.\n",
    "b = a.reshape((2, 3, -1))\n",
    "\n",
    "print(a)\n",
    "print()\n",
    "\n",
    "print(b)\n",
    "\n",
    "print(b.ndim)"
   ]
  },
  {
   "cell_type": "code",
   "execution_count": null,
   "id": "863a45df",
   "metadata": {},
   "outputs": [],
   "source": []
  },
  {
   "cell_type": "markdown",
   "id": "ab5933d5",
   "metadata": {},
   "source": [
    "### Broadcasting\n",
    "**Read the following link about broadcasting: https://numpy.org/doc/stable/user/basics.broadcasting.html#basics-broadcasting**"
   ]
  },
  {
   "cell_type": "markdown",
   "id": "039805ba",
   "metadata": {},
   "source": [
    "# Remark on Broadcasting when doing Linear Algebra calculations in Python. "
   ]
  },
  {
   "cell_type": "markdown",
   "id": "c4bcc147",
   "metadata": {},
   "source": [
    "### From the mathematical rules of matrix addition, the operation below (m1 + m2) does not make sense. The reason is that matrix addition requires two matrices of the same size. In Python however, it works due to broadcasting rules in NumPy. So you must be careful when doing Linear Algebra calculations in Python since they do not follow the \"mathematical rules\". This can however easily be handled by doing some simple programming, for example validating that two matrices have the same shape is easy if you for instance want to add two matrices. "
   ]
  },
  {
   "cell_type": "code",
   "execution_count": 51,
   "id": "137681e4",
   "metadata": {},
   "outputs": [
    {
     "name": "stdout",
     "output_type": "stream",
     "text": [
      "[[2 3]\n",
      " [4 5]]\n"
     ]
    }
   ],
   "source": [
    "m1 = np.array([[1, 2], [3, 4]])\n",
    "m2 = np.array([[1, 1],[1, 1]])\n",
    "\n",
    "if m2.shape != m1.shape:\n",
    "    raise ValueError(\"Arrays m1 and m2 must be the same shape for addition.\")\n",
    "\n",
    "# The smaller array (m2) to be broadcasted to match the shape of the larger array (m1) so that element-wise addition can take place.\n",
    "print(m1 + m2)"
   ]
  },
  {
   "cell_type": "code",
   "execution_count": 49,
   "id": "df237b25",
   "metadata": {},
   "outputs": [
    {
     "name": "stdout",
     "output_type": "stream",
     "text": [
      "[[2 3]\n",
      " [4 5]]\n"
     ]
    },
    {
     "ename": "ValueError",
     "evalue": "Arrays m1 and m2 must be the same shape for addition.",
     "output_type": "error",
     "traceback": [
      "\u001b[0;31m---------------------------------------------------------------------------\u001b[0m",
      "\u001b[0;31mValueError\u001b[0m                                Traceback (most recent call last)",
      "Input \u001b[0;32mIn [49]\u001b[0m, in \u001b[0;36m<cell line: 7>\u001b[0;34m()\u001b[0m\n\u001b[1;32m      5\u001b[0m \u001b[38;5;28mprint\u001b[39m(m1 \u001b[38;5;241m+\u001b[39m m2)\n\u001b[1;32m      7\u001b[0m \u001b[38;5;28;01mif\u001b[39;00m m2\u001b[38;5;241m.\u001b[39mshape \u001b[38;5;241m!=\u001b[39m m1\u001b[38;5;241m.\u001b[39mshape:\n\u001b[0;32m----> 8\u001b[0m     \u001b[38;5;28;01mraise\u001b[39;00m \u001b[38;5;167;01mValueError\u001b[39;00m(\u001b[38;5;124m\"\u001b[39m\u001b[38;5;124mArrays m1 and m2 must be the same shape for addition.\u001b[39m\u001b[38;5;124m\"\u001b[39m)\n\u001b[1;32m     10\u001b[0m result \u001b[38;5;241m=\u001b[39m m1 \u001b[38;5;241m+\u001b[39m m2\n\u001b[1;32m     11\u001b[0m \u001b[38;5;28mprint\u001b[39m(result)\n",
      "\u001b[0;31mValueError\u001b[0m: Arrays m1 and m2 must be the same shape for addition."
     ]
    }
   ],
   "source": [
    "# Test med fel array\n",
    "m1 = np.array([[1, 2], [3, 4]])\n",
    "m2 = np.array([1, 1])\n",
    "\n",
    "# The smaller array (m2) to be broadcasted to match the shape of the larger array (m1) so that element-wise addition can take place.\n",
    "print(m1 + m2)\n",
    "\n",
    "if m2.shape != m1.shape:\n",
    "    raise ValueError(\"Arrays m1 and m2 must be the same shape for addition.\")\n",
    "\n",
    "result = m1 + m2\n",
    "print(result)"
   ]
  },
  {
   "cell_type": "markdown",
   "id": "047d6576",
   "metadata": {},
   "source": [
    "### The example below would also not be allowed if following the \"mathematical rules\" in Linear Algebra. But it works due to broadcasting in NumPy. "
   ]
  },
  {
   "cell_type": "code",
   "execution_count": null,
   "id": "5e6ef2e4",
   "metadata": {},
   "outputs": [],
   "source": [
    "v1 = np.array([1, 2, 3])\n",
    "print(v1 + 1)"
   ]
  },
  {
   "cell_type": "code",
   "execution_count": null,
   "id": "e2cbae26",
   "metadata": {},
   "outputs": [],
   "source": [
    "A = np.arange(1, 5).reshape(2,2)\n",
    "print(A)\n",
    "\n",
    "b = np.array([2, 2])\n",
    "print(b)"
   ]
  },
  {
   "cell_type": "markdown",
   "id": "722fd5cd",
   "metadata": {},
   "source": [
    "# Linear Algebra Exercises"
   ]
  },
  {
   "cell_type": "markdown",
   "id": "b8935099",
   "metadata": {},
   "source": [
    "The exercies are taken from the \"Matrix Algebra for Engineers\" by Chasnov: https://www.math.hkust.edu.hk/~machas/matrix-algebra-for-engineers.pdf .\n",
    "\n",
    "Do the following exercises: \n",
    "* Chapter 2, exercise 1-3.\n",
    "* Quiz on p.11, exercise 2. \n",
    "* Chapter 6, exercise 1. \n",
    "* Quiz on p.19, exercise 3. \n",
    "\n",
    "\n",
    "* Chapter 10, exercise 1. \n",
    "* Chapter 12 exercise 1. \n"
   ]
  },
  {
   "cell_type": "code",
   "execution_count": 51,
   "id": "a452a77a",
   "metadata": {},
   "outputs": [
    {
     "name": "stdout",
     "output_type": "stream",
     "text": [
      "[[ 2  1 -1]\n",
      " [ 1 -1  1]]\n",
      "[[ 4 -2  1]\n",
      " [ 2 -4 -2]]\n",
      "[[1 2]\n",
      " [2 1]]\n",
      "[[3 4]\n",
      " [4 3]]\n",
      "[[1]\n",
      " [2]]\n"
     ]
    }
   ],
   "source": [
    "# Chapter 2, exercise 1\n",
    "A = np.array([[2, 1, -1], [1, -1, 1]])\n",
    "B = np.array([[4, -2, 1], [2, -4, -2]])\n",
    "\n",
    "C = np.array([[1, 2], [2, 1]])\n",
    "D = np.array([[3, 4], [4, 3]])\n",
    "\n",
    "E = np.array([[1], [2]])\n",
    "\n",
    "print(A)\n",
    "print(B)\n",
    "print(C)\n",
    "print(D)\n",
    "print(E)"
   ]
  },
  {
   "cell_type": "code",
   "execution_count": 62,
   "id": "4dea5589",
   "metadata": {},
   "outputs": [
    {
     "name": "stdout",
     "output_type": "stream",
     "text": [
      "[[ 0 -4  3]\n",
      " [ 0 -2 -4]]\n",
      "\n",
      "[[2 5]\n",
      " [4 1]]\n",
      "\n",
      "\n",
      "[[11 10]\n",
      " [10 11]]\n",
      "\n",
      "[[  8 -10  -3]\n",
      " [ 10  -8   0]]\n"
     ]
    }
   ],
   "source": [
    "print(B - 2*A)\n",
    "print()\n",
    "print(3*C - E)\n",
    "print()\n",
    "\n",
    "# print(A@C)\n",
    "print()\n",
    "print(C@D)\n",
    "print()\n",
    "print(C@B)"
   ]
  },
  {
   "cell_type": "markdown",
   "id": "9d8366cc",
   "metadata": {},
   "source": [
    "**Chap2. Question 1.**\n",
    "\n",
    "**Write a function \"add_mult_matrices\" that takes two matrices as input arguments (validate that the input are of the type numpy.ndarray by using the isinstance function), a third argument that is either 'add' or 'multiply' that specifies if you want to add or multiply the matrices (validate that the third argument is either 'add' or 'multiply'). When doing matrix addition, validate that the matrices have the same size. When doing matrix multiplication, validate that the sizes conform (i.e. number of columns in the first matrix is equal to the number of rows in the second matrix).**\n",
    "\n",
    "In this exercise, create a function that takes two matrices as input and either adds or multiplies them by specifying a argument as either 'add' or 'multiply'. Validate that both matrices taken as input are of the type ndarray (use the isinstance function)."
   ]
  },
  {
   "cell_type": "code",
   "execution_count": 53,
   "id": "535ee48c",
   "metadata": {},
   "outputs": [
    {
     "name": "stdout",
     "output_type": "stream",
     "text": [
      "[[ 6  8]\n",
      " [10 12]]\n",
      "[[19 22]\n",
      " [43 50]]\n"
     ]
    }
   ],
   "source": [
    "import numpy as np\n",
    "\n",
    "def add_mult_matrices(matrix1, matrix2, operation):\n",
    "    # Check if both imputs are numpy.ndarrays\n",
    "    if not (isinstance(matrix1, np.ndarray) and isinstance(matrix2, np.ndarray)):\n",
    "        raise ValueError(\"Both inputs should be numpy.ndarrays!\")\n",
    "        \n",
    "    # Perform addition if specified\n",
    "    if operation == \"add\":\n",
    "        if matrix1.shape != matrix2.shape:\n",
    "            raise ValueError(\"Both Matrixs must have the same size!\")\n",
    "        result = matrix1 + matrix2\n",
    "    \n",
    "    # Perform multiplication if specified\n",
    "    elif operation == \"multiply\":\n",
    "        # Check if the sizes conform for multiplication\n",
    "        if matrix1.shape[1] != matrix2.shape[0]:\n",
    "            raise ValueError(\"Number of columns in the first matrix must be equal to the number of rows in the second matrix!\")\n",
    "            # numpy.dot and numpy.matmul for matrix multiplication that explicitly enforce shape compatibility.\n",
    "        result = np.dot(matrix1, matrix2)\n",
    "    else:\n",
    "        raise ValueError(\"Invalid operation. Use 'add' or 'multiply'\")\n",
    "    \n",
    "    return result\n",
    "\n",
    "# Example usage:\n",
    "matrix1 = np.array([[1,2],[3,4]])\n",
    "matrix2 = np.array([[5,6],[7,8]])\n",
    "\n",
    "\n",
    "# Add the matrices\n",
    "result_addition = add_mult_matrices(matrix1, matrix2, \"add\")\n",
    "print(result_addition)\n",
    "\n",
    "# Multiply the matrices\n",
    "result_multiplication = add_mult_matrices(matrix1, matrix2, \"multiply\")\n",
    "print(result_multiplication)"
   ]
  },
  {
   "cell_type": "markdown",
   "id": "5000c829",
   "metadata": {},
   "source": [
    "**Chap2. Question 2**"
   ]
  },
  {
   "cell_type": "code",
   "execution_count": 23,
   "id": "44dab740",
   "metadata": {},
   "outputs": [
    {
     "name": "stdout",
     "output_type": "stream",
     "text": [
      "AB is equal to AC.\n",
      "B is not equal to C.\n"
     ]
    }
   ],
   "source": [
    "# Chapter 2, exercise 2\n",
    "import numpy as np\n",
    "\n",
    "A = np.array([[1,2],[2,4]])\n",
    "B = np.array([[2,1],[1,3]])\n",
    "C = np.array([[4,3],[0,2]])\n",
    "\n",
    "AB = np.dot(A,B)\n",
    "AC = np.dot(A,C)\n",
    "\n",
    "if np.array_equal(AB, AC):\n",
    "    print(\"AB is equal to AC.\")\n",
    "else:\n",
    "    print(\"AB is not equal to AC.\")\n",
    "    \n",
    "if np.all(B == C):\n",
    "    print(\"B is equal to C.\")\n",
    "else:\n",
    "    print(\"B is not equal to C.\")\n",
    "    \n",
    "\n",
    "\n",
    "\n"
   ]
  },
  {
   "cell_type": "markdown",
   "id": "a7f5b140",
   "metadata": {},
   "source": [
    "**Chap2. Question 3**"
   ]
  },
  {
   "cell_type": "code",
   "execution_count": 25,
   "id": "668b1323",
   "metadata": {},
   "outputs": [
    {
     "name": "stdout",
     "output_type": "stream",
     "text": [
      "[[ 2  3  4]\n",
      " [ 2  6 12]\n",
      " [ 2  9 16]]\n",
      "\n",
      "[[ 2  2  2]\n",
      " [ 3  6  9]\n",
      " [ 4 12 16]]\n"
     ]
    }
   ],
   "source": [
    "# Chapter 2, exercise 3\n",
    "import numpy as np\n",
    "\n",
    "A = np.array([[1,1,1],[1,2,3],[1,3,4]])\n",
    "D = np.array([[2,0,0],[0,3,0],[0,0,4]])\n",
    "\n",
    "AD = np.dot(A, D)\n",
    "DA = np.dot(D, A)\n",
    "print(AD)\n",
    "print()\n",
    "print(DA)"
   ]
  },
  {
   "cell_type": "markdown",
   "id": "334ca623",
   "metadata": {},
   "source": [
    "**Quiz p.11, Question 2**"
   ]
  },
  {
   "cell_type": "code",
   "execution_count": 90,
   "id": "b031a786",
   "metadata": {},
   "outputs": [
    {
     "name": "stdout",
     "output_type": "stream",
     "text": [
      "[[-2  2]\n",
      " [ 2 -2]]\n"
     ]
    }
   ],
   "source": [
    "import numpy as np\n",
    "\n",
    "A = np.array([[1, -1],[-1,1]])\n",
    "B = np.array([[-1,1],[1,-1]])\n",
    "\n",
    "AB = np.dot(A, B)\n",
    "print(AB)"
   ]
  },
  {
   "cell_type": "markdown",
   "id": "fbfb4124",
   "metadata": {},
   "source": [
    "**Chap 6. Question 1**"
   ]
  },
  {
   "cell_type": "code",
   "execution_count": 103,
   "id": "9c68d160",
   "metadata": {},
   "outputs": [
    {
     "name": "stdout",
     "output_type": "stream",
     "text": [
      "[[ 5. -6.]\n",
      " [-4.  5.]]\n",
      "\n",
      "[[ 5. -6.]\n",
      " [-4.  5.]]\n",
      "\n",
      "[[ 0.5        -0.66666667]\n",
      " [-0.5         1.        ]]\n"
     ]
    }
   ],
   "source": [
    "import numpy as np\n",
    "\n",
    "A = np.array([[5,6],[4,5]])\n",
    "B = np.array([[6,4],[3,3]])\n",
    "\n",
    "# \"np.linalg.inv\" is used to calculated the inverses of matrix\n",
    "A_inv = np.linalg.inv(A)\n",
    "print(A_inv)\n",
    "print()\n",
    "\n",
    "# 矩阵对象可以通过.I 更方便的求逆矩阵\n",
    "a = np.matrix(A)\n",
    "print(a.I)\n",
    "print()\n",
    "try:\n",
    "    B_inv = np.linalg.inv(B)\n",
    "    print(B_inv)\n",
    "except np.linalg.LinAlgError:\n",
    "    print(\"Inverse of B does not exist.\")"
   ]
  },
  {
   "cell_type": "markdown",
   "id": "574b6d18",
   "metadata": {},
   "source": [
    "**Quiz p.19, Question 3**"
   ]
  },
  {
   "cell_type": "code",
   "execution_count": 105,
   "id": "c4cc11eb",
   "metadata": {},
   "outputs": [
    {
     "name": "stdout",
     "output_type": "stream",
     "text": [
      "[[ 1.  -1. ]\n",
      " [-0.5  1. ]]\n",
      "\n",
      "[[ 1.  -1. ]\n",
      " [-0.5  1. ]]\n"
     ]
    }
   ],
   "source": [
    "import numpy as np\n",
    "\n",
    "A = np.array([[2,2],[1,2]])\n",
    "\n",
    "A_inv = np.linalg.inv(A)\n",
    "print(A_inv)\n",
    "print()\n",
    "a = np.matrix(A)\n",
    "print(a.I)"
   ]
  },
  {
   "cell_type": "markdown",
   "id": "5de93779",
   "metadata": {},
   "source": [
    "**Chap10. Question 1 a)**"
   ]
  },
  {
   "cell_type": "code",
   "execution_count": 108,
   "id": "e9a63544",
   "metadata": {},
   "outputs": [
    {
     "name": "stdout",
     "output_type": "stream",
     "text": [
      "Solution:\n",
      "x1 =  2.999999999999998\n",
      "x2 =  3.9999999999999964\n",
      "x3 =  -5.999999999999991\n"
     ]
    }
   ],
   "source": [
    "import numpy as np\n",
    "\n",
    "# Define the coefficient matrix A and the right-hand side vector B\n",
    "A = np.array([[3,-7,-2],[-3,5,1],[6,-4,0]])\n",
    "B = np.array([-7,5,2])\n",
    "\n",
    "# Solve for the variables x1, x2, x3\n",
    "# The method \"np.linalg.solve\" is used to solve system of linear equation of Ax = B\n",
    "x = np.linalg.solve(A, B)\n",
    "\n",
    "print(\"Solution:\")\n",
    "print(\"x1 = \", x[0])\n",
    "print(\"x2 = \", x[1])\n",
    "print(\"x3 = \", x[2])"
   ]
  },
  {
   "cell_type": "markdown",
   "id": "3f49e9e1",
   "metadata": {},
   "source": [
    "**Chap10. Question 1 b)**"
   ]
  },
  {
   "cell_type": "code",
   "execution_count": 110,
   "id": "6f6e72fb",
   "metadata": {},
   "outputs": [
    {
     "name": "stdout",
     "output_type": "stream",
     "text": [
      "Solution:\n",
      "x1 =  8.0\n",
      "x2 =  2.0\n",
      "x3 =  -1.0\n"
     ]
    }
   ],
   "source": [
    "import numpy as np\n",
    "\n",
    "A = np.array([[1,-2,3],[-1,3,-1],[2,-5,5]])\n",
    "B = np.array([1,-1,1])\n",
    "\n",
    "x = np.linalg.solve(A,B)\n",
    "\n",
    "print(\"Solution:\")\n",
    "print(\"x1 = \", x[0])\n",
    "print(\"x2 = \", x[1])\n",
    "print(\"x3 = \", x[2])"
   ]
  },
  {
   "cell_type": "markdown",
   "id": "beb0a8af",
   "metadata": {},
   "source": [
    "**Chap 12. Question 1**"
   ]
  },
  {
   "cell_type": "code",
   "execution_count": 111,
   "id": "4fe15c46",
   "metadata": {},
   "outputs": [
    {
     "name": "stdout",
     "output_type": "stream",
     "text": [
      "[[ 0.66666667  1.33333333  0.5       ]\n",
      " [ 1.          2.          0.5       ]\n",
      " [-3.         -5.         -1.        ]]\n"
     ]
    }
   ],
   "source": [
    "import numpy as np\n",
    "\n",
    "matrix = np.array([[3,-7,-2],[-3,5,1],[6,-4,0]])\n",
    "\n",
    "try:\n",
    "    matrix_inv = np.linalg.inv(matrix)\n",
    "    print( matrix_inv)\n",
    "except np.linalg.LinAlgError:\n",
    "    print(\"The matrix is singular and does not have an inverse.\")"
   ]
  },
  {
   "cell_type": "markdown",
   "id": "6a4a524f",
   "metadata": {},
   "source": [
    "### Copies and Views\n",
    "Read the following link: https://numpy.org/doc/stable/user/basics.copies.html"
   ]
  },
  {
   "cell_type": "markdown",
   "id": "6cbbeaf7",
   "metadata": {},
   "source": [
    "**Basic indexing creates a view, How can you check if v1 and v2 is a view or copy? If you change the last element in v2 to 123, will the last element in v1 be changed? Why?**"
   ]
  },
  {
   "cell_type": "code",
   "execution_count": 116,
   "id": "5b9ef4df",
   "metadata": {},
   "outputs": [
    {
     "name": "stdout",
     "output_type": "stream",
     "text": [
      "[0 1 2 3]\n",
      "[2 3]\n",
      "Is v2 a view of v1? True\n",
      "[  0   1   2 123]\n"
     ]
    }
   ],
   "source": [
    "v1 = np.arange(4)\n",
    "v2 = v1[-2:]\n",
    "print(v1)\n",
    "print(v2)\n",
    "\n",
    "# \"True\" indicates that both arrays share the same underlying data. v2 is view of v1\n",
    "print(\"Is v2 a view of v1?\", v2.base is v1)\n",
    "\n",
    "v2[-1] = 123\n",
    "# Because they are views of the same data\n",
    "print(v1)"
   ]
  },
  {
   "cell_type": "code",
   "execution_count": 117,
   "id": "d2440489",
   "metadata": {},
   "outputs": [
    {
     "name": "stdout",
     "output_type": "stream",
     "text": [
      "None\n",
      "[  0   1   2 123]\n"
     ]
    }
   ],
   "source": [
    "# The base attribute of a view returns the original array while it returns None for a copy.\n",
    "print(v1.base)\n",
    "print(v2.base)"
   ]
  },
  {
   "cell_type": "code",
   "execution_count": 118,
   "id": "c8752807",
   "metadata": {},
   "outputs": [
    {
     "name": "stdout",
     "output_type": "stream",
     "text": [
      "[  0   1   2 123]\n",
      "[  2 123]\n"
     ]
    }
   ],
   "source": [
    "# The last element in v1 will be changed aswell since v2 is a view, meaning they share the same data buffer.\n",
    "v2[-1] = 123\n",
    "print(v1)\n",
    "print(v2)"
   ]
  },
  {
   "cell_type": "code",
   "execution_count": null,
   "id": "3dd68221",
   "metadata": {},
   "outputs": [],
   "source": []
  }
 ],
 "metadata": {
  "kernelspec": {
   "display_name": "Python 3 (ipykernel)",
   "language": "python",
   "name": "python3"
  },
  "language_info": {
   "codemirror_mode": {
    "name": "ipython",
    "version": 3
   },
   "file_extension": ".py",
   "mimetype": "text/x-python",
   "name": "python",
   "nbconvert_exporter": "python",
   "pygments_lexer": "ipython3",
   "version": "3.11.5"
  }
 },
 "nbformat": 4,
 "nbformat_minor": 5
}
